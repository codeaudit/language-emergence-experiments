{
 "cells": [
  {
   "cell_type": "markdown",
   "metadata": {},
   "source": [
    "# Experiment 1"
   ]
  },
  {
   "cell_type": "markdown",
   "metadata": {},
   "source": [
    "The goal of this experiment was to test the policy gradient implementation on a toy problem of learning the identity function defined over an alphabet of discrete symbols. I also compared the policy gradient implementation with supervised learning, played with effects of learning rate, batch size and alphabet size on convergence and explored some ways of visualizing learned codebook."
   ]
  },
  {
   "cell_type": "code",
   "execution_count": 335,
   "metadata": {},
   "outputs": [],
   "source": [
    "import pandas as pd\n",
    "import torch\n",
    "import torch.nn as nn\n",
    "import torch.nn.functional as F\n",
    "from torch.distributions import Categorical\n",
    "from torch.optim import Adam\n",
    "import seaborn as sns; sns.set()\n",
    "\n",
    "torch.manual_seed(1773);"
   ]
  },
  {
   "cell_type": "code",
   "execution_count": 336,
   "metadata": {},
   "outputs": [],
   "source": [
    "class PolicyNet(nn.Module):\n",
    "    def __init__(self, input_size, output_size):\n",
    "        super().__init__()\n",
    "        self.linear = nn.Embedding(input_size, output_size)\n",
    "\n",
    "    def forward(self, input):\n",
    "        return F.softmax(self.linear(input), dim=1)"
   ]
  },
  {
   "cell_type": "code",
   "execution_count": 337,
   "metadata": {},
   "outputs": [],
   "source": [
    "class World:\n",
    "    def __init__(self, batch_size, alphabet_size):\n",
    "        self.batch_size, self.alphabet_size = batch_size, alphabet_size\n",
    "        self.reset()\n",
    "    \n",
    "    def reset(self):\n",
    "        self.hidden_state = torch.randint(\n",
    "            high=self.alphabet_size, \n",
    "            size=(self.batch_size,),\n",
    "            dtype=torch.long\n",
    "        )\n",
    "    \n",
    "    def receive_observation(self):\n",
    "        return self.hidden_state\n",
    "    \n",
    "    def execute_action(self, action):\n",
    "        return (self.hidden_state == action).float()\n",
    "    \n",
    "class Agent:\n",
    "    \n",
    "    def __init__(self, alphabet_size, learning_rate):\n",
    "        self.policy = PolicyNet(input_size=alphabet_size, output_size=alphabet_size)\n",
    "        self.optimizer = Adam(params=self.policy.parameters(), lr=learning_rate)\n",
    "          \n",
    "    def choose_action(self, input):\n",
    "        probs = self.policy(input)\n",
    "        distribution = Categorical(probs)\n",
    "        action = distribution.sample()\n",
    "        self.last_action_probs = distribution.log_prob(action)\n",
    "        return action\n",
    "    \n",
    "    def teach(self, rewards):\n",
    "        self.optimizer.zero_grad()  \n",
    "        loss = -(self.last_action_probs * rewards).sum()\n",
    "        loss.backward()\n",
    "        self.optimizer.step()\n",
    "        return loss"
   ]
  },
  {
   "cell_type": "code",
   "execution_count": 350,
   "metadata": {},
   "outputs": [],
   "source": [
    "class DifferentiableWorld:\n",
    "    def __init__(self, batch_size, alphabet_size):\n",
    "        self.batch_size, self.alphabet_size = batch_size, alphabet_size\n",
    "        self.reset()\n",
    "    \n",
    "    def reset(self):\n",
    "        self.hidden_state = torch.randint(\n",
    "            high=self.alphabet_size, \n",
    "            size=(self.batch_size,),\n",
    "            dtype=torch.long\n",
    "        )\n",
    "    \n",
    "    def receive_observation(self):\n",
    "        return self.hidden_state\n",
    "    \n",
    "    def execute_action(self, action):\n",
    "        return F.nll_loss(action, self.hidden_state)\n",
    "    \n",
    "class DifferentiableAgent:\n",
    "    \n",
    "    def __init__(self, alphabet_size, learning_rate):\n",
    "        self.policy = PolicyNet(alphabet_size, alphabet_size)\n",
    "        self.optimizer = Adam(params=self.policy.parameters(), lr=learning_rate)\n",
    "          \n",
    "    def choose_action(self, input):\n",
    "        return self.policy(input)\n",
    "    \n",
    "    def teach(self, rewards):\n",
    "        self.optimizer.zero_grad()  \n",
    "        rewards.backward()\n",
    "        self.optimizer.step()\n",
    "        return rewards"
   ]
  },
  {
   "cell_type": "code",
   "execution_count": 355,
   "metadata": {},
   "outputs": [],
   "source": [
    "def train(batch_size, alphabet_size, learning_rate, verbose=True, agent_class=Agent, world_class=World):\n",
    "    world = World(batch_size=batch_size, alphabet_size=alphabet_size)\n",
    "    agent = Agent(alphabet_size=alphabet_size, learning_rate=learning_rate)\n",
    "    for epoch in range(1000):\n",
    "        observation = world.receive_observation()\n",
    "        action = agent.choose_action(observation)\n",
    "        rewards = world.execute_action(action)\n",
    "        loss = agent.teach(rewards)\n",
    "        world.reset()\n",
    "        if verbose and epoch % 100 == 0:\n",
    "            print(f'Epoch {epoch}, average reward: {rewards.mean():.2f}, loss: {loss:.2f}')\n",
    "            print(f'\\tGradient norm is {agent.policy.linear.weight.grad.norm():.2f}')\n",
    "        if loss < 0.01:\n",
    "            break\n",
    "    return epoch, loss, agent"
   ]
  },
  {
   "cell_type": "markdown",
   "metadata": {},
   "source": [
    "## Policy gradients"
   ]
  },
  {
   "cell_type": "code",
   "execution_count": 356,
   "metadata": {},
   "outputs": [
    {
     "name": "stdout",
     "output_type": "stream",
     "text": [
      "Epoch 0, average reward: 0.22, loss: 37.24\n",
      "\tGradient norm is 5.92\n",
      "Epoch 100, average reward: 0.99, loss: 0.43\n",
      "\tGradient norm is 0.16\n",
      "Epoch 200, average reward: 1.00, loss: 0.18\n",
      "\tGradient norm is 0.07\n",
      "Epoch 300, average reward: 0.99, loss: 0.11\n",
      "\tGradient norm is 0.04\n",
      "Epoch 400, average reward: 1.00, loss: 0.07\n",
      "\tGradient norm is 0.03\n",
      "Epoch 500, average reward: 1.00, loss: 0.05\n",
      "\tGradient norm is 0.02\n",
      "Epoch 600, average reward: 1.00, loss: 0.04\n",
      "\tGradient norm is 0.02\n",
      "Epoch 700, average reward: 1.00, loss: 0.03\n",
      "\tGradient norm is 0.01\n",
      "Epoch 800, average reward: 1.00, loss: 0.03\n",
      "\tGradient norm is 0.01\n",
      "Epoch 900, average reward: 1.00, loss: 0.02\n",
      "\tGradient norm is 0.01\n"
     ]
    }
   ],
   "source": [
    "epoch, loss, agent = train(\n",
    "    batch_size=100, \n",
    "    alphabet_size=10, \n",
    "    learning_rate=0.1\n",
    ")"
   ]
  },
  {
   "cell_type": "code",
   "execution_count": 357,
   "metadata": {},
   "outputs": [
    {
     "data": {
      "text/html": [
       "<div>\n",
       "<style scoped>\n",
       "    .dataframe tbody tr th:only-of-type {\n",
       "        vertical-align: middle;\n",
       "    }\n",
       "\n",
       "    .dataframe tbody tr th {\n",
       "        vertical-align: top;\n",
       "    }\n",
       "\n",
       "    .dataframe thead th {\n",
       "        text-align: right;\n",
       "    }\n",
       "</style>\n",
       "<table border=\"1\" class=\"dataframe\">\n",
       "  <thead>\n",
       "    <tr style=\"text-align: right;\">\n",
       "      <th></th>\n",
       "      <th>batch size</th>\n",
       "      <th>learning rate</th>\n",
       "      <th>converged after</th>\n",
       "      <th>loss</th>\n",
       "    </tr>\n",
       "  </thead>\n",
       "  <tbody>\n",
       "    <tr>\n",
       "      <th>0</th>\n",
       "      <td>1</td>\n",
       "      <td>1</td>\n",
       "      <td>0</td>\n",
       "      <td>-0.0</td>\n",
       "    </tr>\n",
       "    <tr>\n",
       "      <th>1</th>\n",
       "      <td>1</td>\n",
       "      <td>0.1</td>\n",
       "      <td>1</td>\n",
       "      <td>-0.0</td>\n",
       "    </tr>\n",
       "    <tr>\n",
       "      <th>2</th>\n",
       "      <td>1</td>\n",
       "      <td>0.01</td>\n",
       "      <td>0</td>\n",
       "      <td>-0.0</td>\n",
       "    </tr>\n",
       "    <tr>\n",
       "      <th>3</th>\n",
       "      <td>1</td>\n",
       "      <td>0.001</td>\n",
       "      <td>1</td>\n",
       "      <td>-0.0</td>\n",
       "    </tr>\n",
       "    <tr>\n",
       "      <th>4</th>\n",
       "      <td>10</td>\n",
       "      <td>1</td>\n",
       "      <td>0</td>\n",
       "      <td>-0.0</td>\n",
       "    </tr>\n",
       "    <tr>\n",
       "      <th>5</th>\n",
       "      <td>10</td>\n",
       "      <td>0.1</td>\n",
       "      <td>6</td>\n",
       "      <td>-0.0</td>\n",
       "    </tr>\n",
       "    <tr>\n",
       "      <th>6</th>\n",
       "      <td>10</td>\n",
       "      <td>0.01</td>\n",
       "      <td>0</td>\n",
       "      <td>-0.0</td>\n",
       "    </tr>\n",
       "    <tr>\n",
       "      <th>7</th>\n",
       "      <td>10</td>\n",
       "      <td>0.001</td>\n",
       "      <td>3</td>\n",
       "      <td>-0.0</td>\n",
       "    </tr>\n",
       "    <tr>\n",
       "      <th>8</th>\n",
       "      <td>25</td>\n",
       "      <td>1</td>\n",
       "      <td>0</td>\n",
       "      <td>-0.0</td>\n",
       "    </tr>\n",
       "    <tr>\n",
       "      <th>9</th>\n",
       "      <td>25</td>\n",
       "      <td>0.1</td>\n",
       "      <td>0</td>\n",
       "      <td>-0.0</td>\n",
       "    </tr>\n",
       "    <tr>\n",
       "      <th>10</th>\n",
       "      <td>25</td>\n",
       "      <td>0.01</td>\n",
       "      <td>3</td>\n",
       "      <td>-0.0</td>\n",
       "    </tr>\n",
       "    <tr>\n",
       "      <th>11</th>\n",
       "      <td>25</td>\n",
       "      <td>0.001</td>\n",
       "      <td>3</td>\n",
       "      <td>-0.0</td>\n",
       "    </tr>\n",
       "    <tr>\n",
       "      <th>12</th>\n",
       "      <td>100</td>\n",
       "      <td>1</td>\n",
       "      <td>2</td>\n",
       "      <td>-0.0</td>\n",
       "    </tr>\n",
       "    <tr>\n",
       "      <th>13</th>\n",
       "      <td>100</td>\n",
       "      <td>0.1</td>\n",
       "      <td>0</td>\n",
       "      <td>-0.0</td>\n",
       "    </tr>\n",
       "    <tr>\n",
       "      <th>14</th>\n",
       "      <td>100</td>\n",
       "      <td>0.01</td>\n",
       "      <td>1</td>\n",
       "      <td>-0.0</td>\n",
       "    </tr>\n",
       "    <tr>\n",
       "      <th>15</th>\n",
       "      <td>100</td>\n",
       "      <td>0.001</td>\n",
       "      <td>603</td>\n",
       "      <td>0.009880111</td>\n",
       "    </tr>\n",
       "    <tr>\n",
       "      <th>16</th>\n",
       "      <td>250</td>\n",
       "      <td>1</td>\n",
       "      <td>5</td>\n",
       "      <td>-0.0</td>\n",
       "    </tr>\n",
       "    <tr>\n",
       "      <th>17</th>\n",
       "      <td>250</td>\n",
       "      <td>0.1</td>\n",
       "      <td>2</td>\n",
       "      <td>-0.0</td>\n",
       "    </tr>\n",
       "    <tr>\n",
       "      <th>18</th>\n",
       "      <td>250</td>\n",
       "      <td>0.01</td>\n",
       "      <td>1</td>\n",
       "      <td>-0.0</td>\n",
       "    </tr>\n",
       "    <tr>\n",
       "      <th>19</th>\n",
       "      <td>250</td>\n",
       "      <td>0.001</td>\n",
       "      <td>0</td>\n",
       "      <td>-0.0</td>\n",
       "    </tr>\n",
       "  </tbody>\n",
       "</table>\n",
       "</div>"
      ],
      "text/plain": [
       "   batch size learning rate converged after         loss\n",
       "0           1             1               0         -0.0\n",
       "1           1           0.1               1         -0.0\n",
       "2           1          0.01               0         -0.0\n",
       "3           1         0.001               1         -0.0\n",
       "4          10             1               0         -0.0\n",
       "5          10           0.1               6         -0.0\n",
       "6          10          0.01               0         -0.0\n",
       "7          10         0.001               3         -0.0\n",
       "8          25             1               0         -0.0\n",
       "9          25           0.1               0         -0.0\n",
       "10         25          0.01               3         -0.0\n",
       "11         25         0.001               3         -0.0\n",
       "12        100             1               2         -0.0\n",
       "13        100           0.1               0         -0.0\n",
       "14        100          0.01               1         -0.0\n",
       "15        100         0.001             603  0.009880111\n",
       "16        250             1               5         -0.0\n",
       "17        250           0.1               2         -0.0\n",
       "18        250          0.01               1         -0.0\n",
       "19        250         0.001               0         -0.0"
      ]
     },
     "execution_count": 357,
     "metadata": {},
     "output_type": "execute_result"
    }
   ],
   "source": [
    "df = pd.DataFrame(columns=['batch size', 'learning rate', 'converged after', 'loss'])\n",
    "for batch_size in [1, 10, 25, 100, 250]:\n",
    "    for lr in [1, 1e-1, 1e-2, 1e-3]:   \n",
    "        epoch, loss, agent = train(\n",
    "            batch_size=10, \n",
    "            alphabet_size=10, \n",
    "            learning_rate=0.1,\n",
    "            verbose=False\n",
    "        )\n",
    "        df.loc[len(df)] = [batch_size, lr, epoch, loss.detach().numpy()]\n",
    "df"
   ]
  },
  {
   "cell_type": "code",
   "execution_count": 358,
   "metadata": {},
   "outputs": [
    {
     "data": {
      "text/plain": [
       "<matplotlib.axes._subplots.AxesSubplot at 0x11c2f88d0>"
      ]
     },
     "execution_count": 358,
     "metadata": {},
     "output_type": "execute_result"
    },
    {
     "data": {
      "image/png": "[encoded data removed]",
      "text/plain": [
       "<Figure size 576x396 with 1 Axes>"
      ]
     },
     "metadata": {},
     "output_type": "display_data"
    }
   ],
   "source": [
    "df[df['learning rate'] == 1].plot(y='converged after', x='batch size')"
   ]
  },
  {
   "cell_type": "code",
   "execution_count": 359,
   "metadata": {},
   "outputs": [
    {
     "data": {
      "text/plain": [
       "<matplotlib.axes._subplots.AxesSubplot at 0x11a4425c0>"
      ]
     },
     "execution_count": 359,
     "metadata": {},
     "output_type": "execute_result"
    },
    {
     "data": {
      "image/png": "[encoded data removed]",
      "text/plain": [
       "<Figure size 576x396 with 1 Axes>"
      ]
     },
     "metadata": {},
     "output_type": "display_data"
    }
   ],
   "source": [
    "df[df['batch size'] == 100].plot(y='converged after', x='learning rate')"
   ]
  },
  {
   "cell_type": "markdown",
   "metadata": {},
   "source": [
    "# Supervised learning"
   ]
  },
  {
   "cell_type": "code",
   "execution_count": 360,
   "metadata": {},
   "outputs": [
    {
     "data": {
      "text/html": [
       "<div>\n",
       "<style scoped>\n",
       "    .dataframe tbody tr th:only-of-type {\n",
       "        vertical-align: middle;\n",
       "    }\n",
       "\n",
       "    .dataframe tbody tr th {\n",
       "        vertical-align: top;\n",
       "    }\n",
       "\n",
       "    .dataframe thead th {\n",
       "        text-align: right;\n",
       "    }\n",
       "</style>\n",
       "<table border=\"1\" class=\"dataframe\">\n",
       "  <thead>\n",
       "    <tr style=\"text-align: right;\">\n",
       "      <th></th>\n",
       "      <th>batch size</th>\n",
       "      <th>learning rate</th>\n",
       "      <th>converged after</th>\n",
       "      <th>loss</th>\n",
       "    </tr>\n",
       "  </thead>\n",
       "  <tbody>\n",
       "    <tr>\n",
       "      <th>0</th>\n",
       "      <td>1</td>\n",
       "      <td>1</td>\n",
       "      <td>0</td>\n",
       "      <td>-0.0</td>\n",
       "    </tr>\n",
       "    <tr>\n",
       "      <th>1</th>\n",
       "      <td>1</td>\n",
       "      <td>0.1</td>\n",
       "      <td>0</td>\n",
       "      <td>-0.0</td>\n",
       "    </tr>\n",
       "    <tr>\n",
       "      <th>2</th>\n",
       "      <td>1</td>\n",
       "      <td>0.01</td>\n",
       "      <td>4</td>\n",
       "      <td>-0.0</td>\n",
       "    </tr>\n",
       "    <tr>\n",
       "      <th>3</th>\n",
       "      <td>1</td>\n",
       "      <td>0.001</td>\n",
       "      <td>1</td>\n",
       "      <td>-0.0</td>\n",
       "    </tr>\n",
       "    <tr>\n",
       "      <th>4</th>\n",
       "      <td>10</td>\n",
       "      <td>1</td>\n",
       "      <td>1</td>\n",
       "      <td>-0.0</td>\n",
       "    </tr>\n",
       "    <tr>\n",
       "      <th>5</th>\n",
       "      <td>10</td>\n",
       "      <td>0.1</td>\n",
       "      <td>0</td>\n",
       "      <td>-0.0</td>\n",
       "    </tr>\n",
       "    <tr>\n",
       "      <th>6</th>\n",
       "      <td>10</td>\n",
       "      <td>0.01</td>\n",
       "      <td>0</td>\n",
       "      <td>-0.0</td>\n",
       "    </tr>\n",
       "    <tr>\n",
       "      <th>7</th>\n",
       "      <td>10</td>\n",
       "      <td>0.001</td>\n",
       "      <td>0</td>\n",
       "      <td>-0.0</td>\n",
       "    </tr>\n",
       "    <tr>\n",
       "      <th>8</th>\n",
       "      <td>25</td>\n",
       "      <td>1</td>\n",
       "      <td>4</td>\n",
       "      <td>-0.0</td>\n",
       "    </tr>\n",
       "    <tr>\n",
       "      <th>9</th>\n",
       "      <td>25</td>\n",
       "      <td>0.1</td>\n",
       "      <td>0</td>\n",
       "      <td>-0.0</td>\n",
       "    </tr>\n",
       "    <tr>\n",
       "      <th>10</th>\n",
       "      <td>25</td>\n",
       "      <td>0.01</td>\n",
       "      <td>8</td>\n",
       "      <td>-0.0</td>\n",
       "    </tr>\n",
       "    <tr>\n",
       "      <th>11</th>\n",
       "      <td>25</td>\n",
       "      <td>0.001</td>\n",
       "      <td>39</td>\n",
       "      <td>-0.0</td>\n",
       "    </tr>\n",
       "    <tr>\n",
       "      <th>12</th>\n",
       "      <td>100</td>\n",
       "      <td>1</td>\n",
       "      <td>0</td>\n",
       "      <td>-0.0</td>\n",
       "    </tr>\n",
       "    <tr>\n",
       "      <th>13</th>\n",
       "      <td>100</td>\n",
       "      <td>0.1</td>\n",
       "      <td>0</td>\n",
       "      <td>-0.0</td>\n",
       "    </tr>\n",
       "    <tr>\n",
       "      <th>14</th>\n",
       "      <td>100</td>\n",
       "      <td>0.01</td>\n",
       "      <td>1</td>\n",
       "      <td>-0.0</td>\n",
       "    </tr>\n",
       "    <tr>\n",
       "      <th>15</th>\n",
       "      <td>100</td>\n",
       "      <td>0.001</td>\n",
       "      <td>2</td>\n",
       "      <td>-0.0</td>\n",
       "    </tr>\n",
       "    <tr>\n",
       "      <th>16</th>\n",
       "      <td>250</td>\n",
       "      <td>1</td>\n",
       "      <td>4</td>\n",
       "      <td>-0.0</td>\n",
       "    </tr>\n",
       "    <tr>\n",
       "      <th>17</th>\n",
       "      <td>250</td>\n",
       "      <td>0.1</td>\n",
       "      <td>0</td>\n",
       "      <td>-0.0</td>\n",
       "    </tr>\n",
       "    <tr>\n",
       "      <th>18</th>\n",
       "      <td>250</td>\n",
       "      <td>0.01</td>\n",
       "      <td>1</td>\n",
       "      <td>-0.0</td>\n",
       "    </tr>\n",
       "    <tr>\n",
       "      <th>19</th>\n",
       "      <td>250</td>\n",
       "      <td>0.001</td>\n",
       "      <td>3</td>\n",
       "      <td>-0.0</td>\n",
       "    </tr>\n",
       "  </tbody>\n",
       "</table>\n",
       "</div>"
      ],
      "text/plain": [
       "   batch size learning rate converged after  loss\n",
       "0           1             1               0  -0.0\n",
       "1           1           0.1               0  -0.0\n",
       "2           1          0.01               4  -0.0\n",
       "3           1         0.001               1  -0.0\n",
       "4          10             1               1  -0.0\n",
       "5          10           0.1               0  -0.0\n",
       "6          10          0.01               0  -0.0\n",
       "7          10         0.001               0  -0.0\n",
       "8          25             1               4  -0.0\n",
       "9          25           0.1               0  -0.0\n",
       "10         25          0.01               8  -0.0\n",
       "11         25         0.001              39  -0.0\n",
       "12        100             1               0  -0.0\n",
       "13        100           0.1               0  -0.0\n",
       "14        100          0.01               1  -0.0\n",
       "15        100         0.001               2  -0.0\n",
       "16        250             1               4  -0.0\n",
       "17        250           0.1               0  -0.0\n",
       "18        250          0.01               1  -0.0\n",
       "19        250         0.001               3  -0.0"
      ]
     },
     "execution_count": 360,
     "metadata": {},
     "output_type": "execute_result"
    }
   ],
   "source": [
    "df = pd.DataFrame(columns=['batch size', 'learning rate', 'converged after', 'loss'])\n",
    "for batch_size in [1, 10, 25, 100, 250]:\n",
    "    for lr in [1, 1e-1, 1e-2, 1e-3]:   \n",
    "        epoch, loss, agent = train(\n",
    "            batch_size=10, \n",
    "            alphabet_size=10, \n",
    "            learning_rate=0.1,\n",
    "            verbose=False,\n",
    "            agent_class=DifferentiableAgent,\n",
    "            world_class=DifferentiableWorld\n",
    "        )\n",
    "        df.loc[len(df)] = [batch_size, lr, epoch, loss.detach().numpy()]\n",
    "df"
   ]
  },
  {
   "cell_type": "code",
   "execution_count": 361,
   "metadata": {},
   "outputs": [
    {
     "data": {
      "text/plain": [
       "<matplotlib.axes._subplots.AxesSubplot at 0x11b386cf8>"
      ]
     },
     "execution_count": 361,
     "metadata": {},
     "output_type": "execute_result"
    },
    {
     "data": {
      "image/png": "[encoded data removed]",
      "text/plain": [
       "<Figure size 576x396 with 1 Axes>"
      ]
     },
     "metadata": {},
     "output_type": "display_data"
    }
   ],
   "source": [
    "df[df['learning rate'] == 1].plot(y='converged after', x='batch size')"
   ]
  },
  {
   "cell_type": "code",
   "execution_count": 362,
   "metadata": {},
   "outputs": [
    {
     "data": {
      "text/plain": [
       "<matplotlib.axes._subplots.AxesSubplot at 0x11a41fc18>"
      ]
     },
     "execution_count": 362,
     "metadata": {},
     "output_type": "execute_result"
    },
    {
     "data": {
      "image/png": "[encoded data removed]",
      "text/plain": [
       "<Figure size 576x396 with 1 Axes>"
      ]
     },
     "metadata": {},
     "output_type": "display_data"
    }
   ],
   "source": [
    "df[df['batch size'] == 100].plot(y='converged after', x='learning rate')"
   ]
  },
  {
   "cell_type": "markdown",
   "metadata": {},
   "source": [
    "# Analyzing the codebook"
   ]
  },
  {
   "cell_type": "code",
   "execution_count": 363,
   "metadata": {},
   "outputs": [],
   "source": [
    "def show_codebook(agent):\n",
    "    return agent.policy.linear.weight.argmax(dim=1)\n",
    "\n",
    "def is_codebook_injective(agent):\n",
    "    return len(show_codebook(agent)) == len(set(show_codebook(agent)))\n",
    "\n",
    "def visualize_codebook(agent):\n",
    "    sns.heatmap(F.softmax(agent.policy.linear.weight, dim=1).detach().numpy(), annot=True, fmt='.1f')"
   ]
  },
  {
   "cell_type": "code",
   "execution_count": 364,
   "metadata": {},
   "outputs": [
    {
     "name": "stdout",
     "output_type": "stream",
     "text": [
      "999 tensor([ 0,  1,  2,  3,  4,  5,  6,  7,  8,  9]) True\n",
      "999 tensor([ 0,  1,  2,  3,  4,  5,  6,  7,  8,  9]) True\n",
      "999 tensor([ 0,  1,  2,  3,  4,  5,  6,  7,  8,  9]) True\n",
      "999 tensor([ 0,  1,  2,  3,  4,  5,  6,  7,  8,  9]) True\n",
      "999 tensor([ 0,  1,  2,  3,  4,  5,  6,  7,  8,  9]) True\n",
      "999 tensor([ 0,  1,  2,  3,  4,  5,  6,  7,  8,  9]) True\n",
      "999 tensor([ 0,  1,  2,  3,  4,  5,  6,  7,  8,  9]) True\n",
      "999 tensor([ 0,  1,  2,  3,  4,  5,  6,  7,  8,  9]) True\n",
      "999 tensor([ 0,  1,  2,  3,  4,  5,  6,  7,  8,  9]) True\n",
      "999 tensor([ 0,  1,  2,  3,  4,  5,  6,  7,  8,  9]) True\n"
     ]
    }
   ],
   "source": [
    "for _ in range(10):\n",
    "    epoch, loss, agent = train(\n",
    "        batch_size=100, \n",
    "        alphabet_size=10, \n",
    "        learning_rate=0.1,\n",
    "        verbose=False\n",
    "    )\n",
    "    print(epoch, show_codebook(agent), is_codebook_injective(agent))"
   ]
  },
  {
   "cell_type": "code",
   "execution_count": 365,
   "metadata": {},
   "outputs": [
    {
     "data": {
      "image/png": "[encoded data removed]",
      "text/plain": [
       "<Figure size 576x396 with 2 Axes>"
      ]
     },
     "metadata": {},
     "output_type": "display_data"
    }
   ],
   "source": [
    "visualize_codebook(agent)"
   ]
  },
  {
   "cell_type": "code",
   "execution_count": 366,
   "metadata": {},
   "outputs": [
    {
     "name": "stdout",
     "output_type": "stream",
     "text": [
      "1 tensor([  0,  44,  30,  18,  33,  30,   6,  29,  37,  44,  43,  42,\n",
      "          6,  16,   9,  43,  22,  13,  43,  46,  24,  32,  26,  23,\n",
      "         47,  27,  19,  45,  29,  28,  22,  41,   0,  15,  39,  11,\n",
      "         12,  33,  33,  23,  42,  28,   1,   1,  24,  37,  35,  20,\n",
      "         38,  42]) True\n",
      "13 tensor([ 27,   8,   2,  40,  28,   0,   6,  16,  48,  41,  41,  27,\n",
      "         27,   5,  21,  25,  20,  10,  13,  41,  19,  16,   6,  44,\n",
      "         46,  32,   7,  27,  17,  28,  41,   1,   1,  33,  17,   4,\n",
      "         21,  46,  27,   2,  28,  42,   8,  23,   2,  42,  32,   7,\n",
      "         17,  18]) True\n",
      "1 tensor([  5,  17,  49,  27,  32,  20,  26,  35,  19,  46,  15,   4,\n",
      "         19,   9,  20,  32,   3,  38,   9,  44,  23,  32,  42,  49,\n",
      "         38,  48,  49,   2,  44,  24,  45,  26,  34,  38,  41,   1,\n",
      "         34,   8,   1,  47,  13,  25,  35,  26,   8,  25,  38,  22,\n",
      "         36,  13]) True\n",
      "4 tensor([ 22,  26,  41,   9,   5,  19,  12,  14,  10,  20,  31,  18,\n",
      "         38,   3,  11,  15,  39,  16,  35,  15,  20,  42,  22,  30,\n",
      "         22,  26,  45,  18,   5,   8,  49,   0,  32,   3,  29,  45,\n",
      "         14,   2,  24,   2,  39,   0,  24,   9,  29,  32,  46,  15,\n",
      "         37,  31]) True\n",
      "999 tensor([  0,   1,   2,   3,   4,   5,   6,   7,   8,   9,  10,  11,\n",
      "         12,  13,  14,  15,  16,  17,  18,  19,  20,  21,  22,  23,\n",
      "         24,  25,  26,  27,  28,  29,  30,  31,  32,  33,  34,  35,\n",
      "         36,  37,  38,  39,  40,  41,  42,  43,  44,  45,  46,  47,\n",
      "         48,  49]) True\n",
      "1 tensor([ 27,  14,  47,   2,  12,  15,  27,  11,  33,  16,  31,   5,\n",
      "         35,  26,  15,   7,  12,  34,  35,  31,  24,  40,  49,  47,\n",
      "         37,  42,  10,   3,  46,  24,  48,   1,  12,  49,  45,  24,\n",
      "         15,  42,  38,  23,  22,  11,  45,   9,  14,  45,  14,  36,\n",
      "         19,  30]) True\n",
      "4 tensor([ 15,   7,  47,  47,  38,  22,  17,  36,  32,   7,  26,   4,\n",
      "         21,  22,  18,  35,  46,  38,   7,  25,  30,   5,  21,  29,\n",
      "         29,  37,   3,  20,  23,  19,  21,  43,   5,  48,  17,   8,\n",
      "         12,  14,  30,  46,  15,  31,   6,  31,  18,  21,  21,  30,\n",
      "         26,  35]) True\n",
      "5 tensor([ 47,  33,  37,  32,  18,  11,  42,  49,  40,  27,  39,  11,\n",
      "          5,   3,  22,  17,  10,  22,   8,  24,  35,  35,  42,  31,\n",
      "         11,  43,  39,   5,   0,  11,  20,   8,   6,   3,  34,  14,\n",
      "          8,  19,  26,  47,  34,  31,  29,  43,  43,  25,  49,  38,\n",
      "         11,   0]) True\n",
      "999 tensor([  0,   1,   2,   3,   4,   5,   6,   7,   8,   9,  10,  11,\n",
      "         12,  13,  14,  15,  16,  17,  18,  19,  20,  21,  22,  23,\n",
      "         24,  25,  26,  27,  28,  29,  30,  31,  32,  33,  34,  35,\n",
      "         36,  37,  38,  39,  40,  41,  42,  43,  44,  45,  46,  47,\n",
      "         48,  49]) True\n",
      "2 tensor([ 28,  10,  10,  31,   7,  13,  35,  46,  28,   1,  48,  19,\n",
      "         41,  16,  26,   8,  47,  10,   2,  16,  32,  31,   2,  49,\n",
      "          6,   9,  40,  32,  12,   8,  10,   8,  42,  13,   6,  24,\n",
      "         18,  24,  22,  22,  39,  10,   6,  10,  20,  45,  11,  37,\n",
      "         44,  41]) True\n"
     ]
    }
   ],
   "source": [
    "for _ in range(10):\n",
    "    epoch, loss, agent = train(\n",
    "        batch_size=100, \n",
    "        alphabet_size=50, \n",
    "        learning_rate=0.1,\n",
    "        verbose=False\n",
    "    )\n",
    "    print(epoch, show_codebook(agent), is_codebook_injective(agent))"
   ]
  },
  {
   "cell_type": "markdown",
   "metadata": {},
   "source": [
    "Only for larger alphabets the policy is encoded by a non-diagonal matrix."
   ]
  },
  {
   "cell_type": "code",
   "execution_count": null,
   "metadata": {},
   "outputs": [],
   "source": []
  },
  {
   "cell_type": "code",
   "execution_count": null,
   "metadata": {},
   "outputs": [],
   "source": []
  }
 ],
 "metadata": {
  "kernelspec": {
   "display_name": "Python 3",
   "language": "python",
   "name": "python3"
  },
  "language_info": {
   "codemirror_mode": {
    "name": "ipython",
    "version": 3
   },
   "file_extension": ".py",
   "mimetype": "text/x-python",
   "name": "python",
   "nbconvert_exporter": "python",
   "pygments_lexer": "ipython3",
   "version": "3.6.1"
  }
 },
 "nbformat": 4,
 "nbformat_minor": 2
}
